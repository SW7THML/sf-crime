{
 "cells": [
  {
   "cell_type": "markdown",
   "metadata": {},
   "source": [
    "# Convert minutes to 0 if the value is 30\n",
    "\n",
    "In the previous notebook, we found that the minutes information seems have some noises, especially the distribution is focusing on 0 and 30. In this notebook, we're try to convert minutes information to zero if the value is 30."
   ]
  },
  {
   "cell_type": "code",
   "execution_count": 1,
   "metadata": {
    "collapsed": true
   },
   "outputs": [],
   "source": [
    "import numpy as np\n",
    "import pandas as pd"
   ]
  },
  {
   "cell_type": "markdown",
   "metadata": {},
   "source": [
    "## Load datasets"
   ]
  },
  {
   "cell_type": "code",
   "execution_count": 2,
   "metadata": {
    "collapsed": false
   },
   "outputs": [
    {
     "name": "stdout",
     "output_type": "stream",
     "text": [
      "(878049, 6)\n"
     ]
    },
    {
     "data": {
      "text/html": [
       "<div>\n",
       "<table border=\"1\" class=\"dataframe\">\n",
       "  <thead>\n",
       "    <tr style=\"text-align: right;\">\n",
       "      <th></th>\n",
       "      <th>Dates</th>\n",
       "      <th>Category</th>\n",
       "      <th>DayOfWeek</th>\n",
       "      <th>PdDistrict</th>\n",
       "      <th>X</th>\n",
       "      <th>Y</th>\n",
       "    </tr>\n",
       "  </thead>\n",
       "  <tbody>\n",
       "    <tr>\n",
       "      <th>0</th>\n",
       "      <td>2015-05-13 23:53:00</td>\n",
       "      <td>WARRANTS</td>\n",
       "      <td>Wednesday</td>\n",
       "      <td>NORTHERN</td>\n",
       "      <td>-122.425892</td>\n",
       "      <td>37.774599</td>\n",
       "    </tr>\n",
       "    <tr>\n",
       "      <th>1</th>\n",
       "      <td>2015-05-13 23:53:00</td>\n",
       "      <td>OTHER OFFENSES</td>\n",
       "      <td>Wednesday</td>\n",
       "      <td>NORTHERN</td>\n",
       "      <td>-122.425892</td>\n",
       "      <td>37.774599</td>\n",
       "    </tr>\n",
       "    <tr>\n",
       "      <th>2</th>\n",
       "      <td>2015-05-13 23:33:00</td>\n",
       "      <td>OTHER OFFENSES</td>\n",
       "      <td>Wednesday</td>\n",
       "      <td>NORTHERN</td>\n",
       "      <td>-122.424363</td>\n",
       "      <td>37.800414</td>\n",
       "    </tr>\n",
       "  </tbody>\n",
       "</table>\n",
       "</div>"
      ],
      "text/plain": [
       "                Dates        Category  DayOfWeek PdDistrict           X  \\\n",
       "0 2015-05-13 23:53:00        WARRANTS  Wednesday   NORTHERN -122.425892   \n",
       "1 2015-05-13 23:53:00  OTHER OFFENSES  Wednesday   NORTHERN -122.425892   \n",
       "2 2015-05-13 23:33:00  OTHER OFFENSES  Wednesday   NORTHERN -122.424363   \n",
       "\n",
       "           Y  \n",
       "0  37.774599  \n",
       "1  37.774599  \n",
       "2  37.800414  "
      ]
     },
     "execution_count": 2,
     "metadata": {},
     "output_type": "execute_result"
    }
   ],
   "source": [
    "train = pd.read_csv(\"../data/train.csv\", parse_dates=[\"Dates\"])\n",
    "\n",
    "train.drop(\"Address\", axis=1, inplace=True)\n",
    "train.drop(\"Resolution\", axis=1, inplace=True)\n",
    "train.drop(\"Descript\", axis=1, inplace=True)\n",
    "\n",
    "print(train.shape)\n",
    "train.head(3)"
   ]
  },
  {
   "cell_type": "markdown",
   "metadata": {},
   "source": [
    "## Feature Engineering"
   ]
  },
  {
   "cell_type": "markdown",
   "metadata": {},
   "source": [
    "### DayOfWeek"
   ]
  },
  {
   "cell_type": "code",
   "execution_count": 3,
   "metadata": {
    "collapsed": false
   },
   "outputs": [
    {
     "name": "stdout",
     "output_type": "stream",
     "text": [
      "['Wednesday' 'Tuesday' 'Monday' 'Sunday' 'Saturday' 'Friday' 'Thursday']\n",
      "(878049, 7)\n"
     ]
    },
    {
     "data": {
      "text/html": [
       "<div>\n",
       "<table border=\"1\" class=\"dataframe\">\n",
       "  <thead>\n",
       "    <tr style=\"text-align: right;\">\n",
       "      <th></th>\n",
       "      <th>DayOfWeek_Friday</th>\n",
       "      <th>DayOfWeek_Monday</th>\n",
       "      <th>DayOfWeek_Saturday</th>\n",
       "      <th>DayOfWeek_Sunday</th>\n",
       "      <th>DayOfWeek_Thursday</th>\n",
       "      <th>DayOfWeek_Tuesday</th>\n",
       "      <th>DayOfWeek_Wednesday</th>\n",
       "    </tr>\n",
       "  </thead>\n",
       "  <tbody>\n",
       "    <tr>\n",
       "      <th>0</th>\n",
       "      <td>False</td>\n",
       "      <td>False</td>\n",
       "      <td>False</td>\n",
       "      <td>False</td>\n",
       "      <td>False</td>\n",
       "      <td>False</td>\n",
       "      <td>True</td>\n",
       "    </tr>\n",
       "    <tr>\n",
       "      <th>1</th>\n",
       "      <td>False</td>\n",
       "      <td>False</td>\n",
       "      <td>False</td>\n",
       "      <td>False</td>\n",
       "      <td>False</td>\n",
       "      <td>False</td>\n",
       "      <td>True</td>\n",
       "    </tr>\n",
       "    <tr>\n",
       "      <th>2</th>\n",
       "      <td>False</td>\n",
       "      <td>False</td>\n",
       "      <td>False</td>\n",
       "      <td>False</td>\n",
       "      <td>False</td>\n",
       "      <td>False</td>\n",
       "      <td>True</td>\n",
       "    </tr>\n",
       "  </tbody>\n",
       "</table>\n",
       "</div>"
      ],
      "text/plain": [
       "  DayOfWeek_Friday DayOfWeek_Monday DayOfWeek_Saturday DayOfWeek_Sunday  \\\n",
       "0            False            False              False            False   \n",
       "1            False            False              False            False   \n",
       "2            False            False              False            False   \n",
       "\n",
       "  DayOfWeek_Thursday DayOfWeek_Tuesday DayOfWeek_Wednesday  \n",
       "0              False             False                True  \n",
       "1              False             False                True  \n",
       "2              False             False                True  "
      ]
     },
     "execution_count": 3,
     "metadata": {},
     "output_type": "execute_result"
    }
   ],
   "source": [
    "print(train[\"DayOfWeek\"].unique())\n",
    "\n",
    "day_of_week_dataframe = pd.get_dummies(train[\"DayOfWeek\"], prefix=\"DayOfWeek\").astype(np.bool)\n",
    "print(day_of_week_dataframe.shape)\n",
    "day_of_week_dataframe.head(3)"
   ]
  },
  {
   "cell_type": "code",
   "execution_count": 4,
   "metadata": {
    "collapsed": false
   },
   "outputs": [
    {
     "name": "stdout",
     "output_type": "stream",
     "text": [
      "(878049, 12)\n"
     ]
    },
    {
     "data": {
      "text/html": [
       "<div>\n",
       "<table border=\"1\" class=\"dataframe\">\n",
       "  <thead>\n",
       "    <tr style=\"text-align: right;\">\n",
       "      <th></th>\n",
       "      <th>Dates</th>\n",
       "      <th>Category</th>\n",
       "      <th>PdDistrict</th>\n",
       "      <th>X</th>\n",
       "      <th>Y</th>\n",
       "      <th>DayOfWeek_Friday</th>\n",
       "      <th>DayOfWeek_Monday</th>\n",
       "      <th>DayOfWeek_Saturday</th>\n",
       "      <th>DayOfWeek_Sunday</th>\n",
       "      <th>DayOfWeek_Thursday</th>\n",
       "      <th>DayOfWeek_Tuesday</th>\n",
       "      <th>DayOfWeek_Wednesday</th>\n",
       "    </tr>\n",
       "  </thead>\n",
       "  <tbody>\n",
       "    <tr>\n",
       "      <th>0</th>\n",
       "      <td>2015-05-13 23:53:00</td>\n",
       "      <td>WARRANTS</td>\n",
       "      <td>NORTHERN</td>\n",
       "      <td>-122.425892</td>\n",
       "      <td>37.774599</td>\n",
       "      <td>False</td>\n",
       "      <td>False</td>\n",
       "      <td>False</td>\n",
       "      <td>False</td>\n",
       "      <td>False</td>\n",
       "      <td>False</td>\n",
       "      <td>True</td>\n",
       "    </tr>\n",
       "    <tr>\n",
       "      <th>1</th>\n",
       "      <td>2015-05-13 23:53:00</td>\n",
       "      <td>OTHER OFFENSES</td>\n",
       "      <td>NORTHERN</td>\n",
       "      <td>-122.425892</td>\n",
       "      <td>37.774599</td>\n",
       "      <td>False</td>\n",
       "      <td>False</td>\n",
       "      <td>False</td>\n",
       "      <td>False</td>\n",
       "      <td>False</td>\n",
       "      <td>False</td>\n",
       "      <td>True</td>\n",
       "    </tr>\n",
       "    <tr>\n",
       "      <th>2</th>\n",
       "      <td>2015-05-13 23:33:00</td>\n",
       "      <td>OTHER OFFENSES</td>\n",
       "      <td>NORTHERN</td>\n",
       "      <td>-122.424363</td>\n",
       "      <td>37.800414</td>\n",
       "      <td>False</td>\n",
       "      <td>False</td>\n",
       "      <td>False</td>\n",
       "      <td>False</td>\n",
       "      <td>False</td>\n",
       "      <td>False</td>\n",
       "      <td>True</td>\n",
       "    </tr>\n",
       "  </tbody>\n",
       "</table>\n",
       "</div>"
      ],
      "text/plain": [
       "                Dates        Category PdDistrict           X          Y  \\\n",
       "0 2015-05-13 23:53:00        WARRANTS   NORTHERN -122.425892  37.774599   \n",
       "1 2015-05-13 23:53:00  OTHER OFFENSES   NORTHERN -122.425892  37.774599   \n",
       "2 2015-05-13 23:33:00  OTHER OFFENSES   NORTHERN -122.424363  37.800414   \n",
       "\n",
       "  DayOfWeek_Friday DayOfWeek_Monday DayOfWeek_Saturday DayOfWeek_Sunday  \\\n",
       "0            False            False              False            False   \n",
       "1            False            False              False            False   \n",
       "2            False            False              False            False   \n",
       "\n",
       "  DayOfWeek_Thursday DayOfWeek_Tuesday DayOfWeek_Wednesday  \n",
       "0              False             False                True  \n",
       "1              False             False                True  \n",
       "2              False             False                True  "
      ]
     },
     "execution_count": 4,
     "metadata": {},
     "output_type": "execute_result"
    }
   ],
   "source": [
    "train = pd.concat([train, day_of_week_dataframe], axis=1)\n",
    "train.drop(\"DayOfWeek\", axis=1, inplace=True)\n",
    "\n",
    "print(train.shape)\n",
    "train.head(3)"
   ]
  },
  {
   "cell_type": "markdown",
   "metadata": {},
   "source": [
    "### PdDistrict"
   ]
  },
  {
   "cell_type": "code",
   "execution_count": 5,
   "metadata": {
    "collapsed": false
   },
   "outputs": [
    {
     "name": "stdout",
     "output_type": "stream",
     "text": [
      "['NORTHERN' 'PARK' 'INGLESIDE' 'BAYVIEW' 'RICHMOND' 'CENTRAL' 'TARAVAL'\n",
      " 'TENDERLOIN' 'MISSION' 'SOUTHERN']\n",
      "(878049, 10)\n"
     ]
    },
    {
     "data": {
      "text/html": [
       "<div>\n",
       "<table border=\"1\" class=\"dataframe\">\n",
       "  <thead>\n",
       "    <tr style=\"text-align: right;\">\n",
       "      <th></th>\n",
       "      <th>PdDistrict_BAYVIEW</th>\n",
       "      <th>PdDistrict_CENTRAL</th>\n",
       "      <th>PdDistrict_INGLESIDE</th>\n",
       "      <th>PdDistrict_MISSION</th>\n",
       "      <th>PdDistrict_NORTHERN</th>\n",
       "      <th>PdDistrict_PARK</th>\n",
       "      <th>PdDistrict_RICHMOND</th>\n",
       "      <th>PdDistrict_SOUTHERN</th>\n",
       "      <th>PdDistrict_TARAVAL</th>\n",
       "      <th>PdDistrict_TENDERLOIN</th>\n",
       "    </tr>\n",
       "  </thead>\n",
       "  <tbody>\n",
       "    <tr>\n",
       "      <th>0</th>\n",
       "      <td>False</td>\n",
       "      <td>False</td>\n",
       "      <td>False</td>\n",
       "      <td>False</td>\n",
       "      <td>True</td>\n",
       "      <td>False</td>\n",
       "      <td>False</td>\n",
       "      <td>False</td>\n",
       "      <td>False</td>\n",
       "      <td>False</td>\n",
       "    </tr>\n",
       "    <tr>\n",
       "      <th>1</th>\n",
       "      <td>False</td>\n",
       "      <td>False</td>\n",
       "      <td>False</td>\n",
       "      <td>False</td>\n",
       "      <td>True</td>\n",
       "      <td>False</td>\n",
       "      <td>False</td>\n",
       "      <td>False</td>\n",
       "      <td>False</td>\n",
       "      <td>False</td>\n",
       "    </tr>\n",
       "    <tr>\n",
       "      <th>2</th>\n",
       "      <td>False</td>\n",
       "      <td>False</td>\n",
       "      <td>False</td>\n",
       "      <td>False</td>\n",
       "      <td>True</td>\n",
       "      <td>False</td>\n",
       "      <td>False</td>\n",
       "      <td>False</td>\n",
       "      <td>False</td>\n",
       "      <td>False</td>\n",
       "    </tr>\n",
       "  </tbody>\n",
       "</table>\n",
       "</div>"
      ],
      "text/plain": [
       "  PdDistrict_BAYVIEW PdDistrict_CENTRAL PdDistrict_INGLESIDE  \\\n",
       "0              False              False                False   \n",
       "1              False              False                False   \n",
       "2              False              False                False   \n",
       "\n",
       "  PdDistrict_MISSION PdDistrict_NORTHERN PdDistrict_PARK PdDistrict_RICHMOND  \\\n",
       "0              False                True           False               False   \n",
       "1              False                True           False               False   \n",
       "2              False                True           False               False   \n",
       "\n",
       "  PdDistrict_SOUTHERN PdDistrict_TARAVAL PdDistrict_TENDERLOIN  \n",
       "0               False              False                 False  \n",
       "1               False              False                 False  \n",
       "2               False              False                 False  "
      ]
     },
     "execution_count": 5,
     "metadata": {},
     "output_type": "execute_result"
    }
   ],
   "source": [
    "print(train[\"PdDistrict\"].unique())\n",
    "\n",
    "pd_district_dataframe = pd.get_dummies(train[\"PdDistrict\"], prefix=\"PdDistrict\").astype(np.bool)\n",
    "\n",
    "print(pd_district_dataframe.shape)\n",
    "pd_district_dataframe.head(3)"
   ]
  },
  {
   "cell_type": "code",
   "execution_count": 6,
   "metadata": {
    "collapsed": false
   },
   "outputs": [
    {
     "name": "stdout",
     "output_type": "stream",
     "text": [
      "(878049, 21)\n"
     ]
    },
    {
     "data": {
      "text/html": [
       "<div>\n",
       "<table border=\"1\" class=\"dataframe\">\n",
       "  <thead>\n",
       "    <tr style=\"text-align: right;\">\n",
       "      <th></th>\n",
       "      <th>Dates</th>\n",
       "      <th>Category</th>\n",
       "      <th>X</th>\n",
       "      <th>Y</th>\n",
       "      <th>DayOfWeek_Friday</th>\n",
       "      <th>DayOfWeek_Monday</th>\n",
       "      <th>DayOfWeek_Saturday</th>\n",
       "      <th>DayOfWeek_Sunday</th>\n",
       "      <th>DayOfWeek_Thursday</th>\n",
       "      <th>DayOfWeek_Tuesday</th>\n",
       "      <th>...</th>\n",
       "      <th>PdDistrict_BAYVIEW</th>\n",
       "      <th>PdDistrict_CENTRAL</th>\n",
       "      <th>PdDistrict_INGLESIDE</th>\n",
       "      <th>PdDistrict_MISSION</th>\n",
       "      <th>PdDistrict_NORTHERN</th>\n",
       "      <th>PdDistrict_PARK</th>\n",
       "      <th>PdDistrict_RICHMOND</th>\n",
       "      <th>PdDistrict_SOUTHERN</th>\n",
       "      <th>PdDistrict_TARAVAL</th>\n",
       "      <th>PdDistrict_TENDERLOIN</th>\n",
       "    </tr>\n",
       "  </thead>\n",
       "  <tbody>\n",
       "    <tr>\n",
       "      <th>0</th>\n",
       "      <td>2015-05-13 23:53:00</td>\n",
       "      <td>WARRANTS</td>\n",
       "      <td>-122.425892</td>\n",
       "      <td>37.774599</td>\n",
       "      <td>False</td>\n",
       "      <td>False</td>\n",
       "      <td>False</td>\n",
       "      <td>False</td>\n",
       "      <td>False</td>\n",
       "      <td>False</td>\n",
       "      <td>...</td>\n",
       "      <td>False</td>\n",
       "      <td>False</td>\n",
       "      <td>False</td>\n",
       "      <td>False</td>\n",
       "      <td>True</td>\n",
       "      <td>False</td>\n",
       "      <td>False</td>\n",
       "      <td>False</td>\n",
       "      <td>False</td>\n",
       "      <td>False</td>\n",
       "    </tr>\n",
       "    <tr>\n",
       "      <th>1</th>\n",
       "      <td>2015-05-13 23:53:00</td>\n",
       "      <td>OTHER OFFENSES</td>\n",
       "      <td>-122.425892</td>\n",
       "      <td>37.774599</td>\n",
       "      <td>False</td>\n",
       "      <td>False</td>\n",
       "      <td>False</td>\n",
       "      <td>False</td>\n",
       "      <td>False</td>\n",
       "      <td>False</td>\n",
       "      <td>...</td>\n",
       "      <td>False</td>\n",
       "      <td>False</td>\n",
       "      <td>False</td>\n",
       "      <td>False</td>\n",
       "      <td>True</td>\n",
       "      <td>False</td>\n",
       "      <td>False</td>\n",
       "      <td>False</td>\n",
       "      <td>False</td>\n",
       "      <td>False</td>\n",
       "    </tr>\n",
       "    <tr>\n",
       "      <th>2</th>\n",
       "      <td>2015-05-13 23:33:00</td>\n",
       "      <td>OTHER OFFENSES</td>\n",
       "      <td>-122.424363</td>\n",
       "      <td>37.800414</td>\n",
       "      <td>False</td>\n",
       "      <td>False</td>\n",
       "      <td>False</td>\n",
       "      <td>False</td>\n",
       "      <td>False</td>\n",
       "      <td>False</td>\n",
       "      <td>...</td>\n",
       "      <td>False</td>\n",
       "      <td>False</td>\n",
       "      <td>False</td>\n",
       "      <td>False</td>\n",
       "      <td>True</td>\n",
       "      <td>False</td>\n",
       "      <td>False</td>\n",
       "      <td>False</td>\n",
       "      <td>False</td>\n",
       "      <td>False</td>\n",
       "    </tr>\n",
       "  </tbody>\n",
       "</table>\n",
       "<p>3 rows × 21 columns</p>\n",
       "</div>"
      ],
      "text/plain": [
       "                Dates        Category           X          Y DayOfWeek_Friday  \\\n",
       "0 2015-05-13 23:53:00        WARRANTS -122.425892  37.774599            False   \n",
       "1 2015-05-13 23:53:00  OTHER OFFENSES -122.425892  37.774599            False   \n",
       "2 2015-05-13 23:33:00  OTHER OFFENSES -122.424363  37.800414            False   \n",
       "\n",
       "  DayOfWeek_Monday DayOfWeek_Saturday DayOfWeek_Sunday DayOfWeek_Thursday  \\\n",
       "0            False              False            False              False   \n",
       "1            False              False            False              False   \n",
       "2            False              False            False              False   \n",
       "\n",
       "  DayOfWeek_Tuesday          ...          PdDistrict_BAYVIEW  \\\n",
       "0             False          ...                       False   \n",
       "1             False          ...                       False   \n",
       "2             False          ...                       False   \n",
       "\n",
       "  PdDistrict_CENTRAL PdDistrict_INGLESIDE PdDistrict_MISSION  \\\n",
       "0              False                False              False   \n",
       "1              False                False              False   \n",
       "2              False                False              False   \n",
       "\n",
       "  PdDistrict_NORTHERN PdDistrict_PARK PdDistrict_RICHMOND PdDistrict_SOUTHERN  \\\n",
       "0                True           False               False               False   \n",
       "1                True           False               False               False   \n",
       "2                True           False               False               False   \n",
       "\n",
       "  PdDistrict_TARAVAL PdDistrict_TENDERLOIN  \n",
       "0              False                 False  \n",
       "1              False                 False  \n",
       "2              False                 False  \n",
       "\n",
       "[3 rows x 21 columns]"
      ]
     },
     "execution_count": 6,
     "metadata": {},
     "output_type": "execute_result"
    }
   ],
   "source": [
    "train = pd.concat([train, pd_district_dataframe], axis=1)\n",
    "train.drop(\"PdDistrict\", axis=1, inplace=True)\n",
    "\n",
    "print(train.shape)\n",
    "train.head(3)"
   ]
  },
  {
   "cell_type": "markdown",
   "metadata": {},
   "source": [
    "### Dates"
   ]
  },
  {
   "cell_type": "code",
   "execution_count": 7,
   "metadata": {
    "collapsed": false
   },
   "outputs": [
    {
     "name": "stdout",
     "output_type": "stream",
     "text": [
      "(878049, 26)\n"
     ]
    },
    {
     "data": {
      "text/html": [
       "<div>\n",
       "<table border=\"1\" class=\"dataframe\">\n",
       "  <thead>\n",
       "    <tr style=\"text-align: right;\">\n",
       "      <th></th>\n",
       "      <th>Category</th>\n",
       "      <th>X</th>\n",
       "      <th>Y</th>\n",
       "      <th>DayOfWeek_Friday</th>\n",
       "      <th>DayOfWeek_Monday</th>\n",
       "      <th>DayOfWeek_Saturday</th>\n",
       "      <th>DayOfWeek_Sunday</th>\n",
       "      <th>DayOfWeek_Thursday</th>\n",
       "      <th>DayOfWeek_Tuesday</th>\n",
       "      <th>DayOfWeek_Wednesday</th>\n",
       "      <th>...</th>\n",
       "      <th>PdDistrict_RICHMOND</th>\n",
       "      <th>PdDistrict_SOUTHERN</th>\n",
       "      <th>PdDistrict_TARAVAL</th>\n",
       "      <th>PdDistrict_TENDERLOIN</th>\n",
       "      <th>Dates_year</th>\n",
       "      <th>Dates_month</th>\n",
       "      <th>Dates_day</th>\n",
       "      <th>Dates_hour</th>\n",
       "      <th>Dates_minute</th>\n",
       "      <th>Dates_second</th>\n",
       "    </tr>\n",
       "  </thead>\n",
       "  <tbody>\n",
       "    <tr>\n",
       "      <th>0</th>\n",
       "      <td>WARRANTS</td>\n",
       "      <td>-122.425892</td>\n",
       "      <td>37.774599</td>\n",
       "      <td>False</td>\n",
       "      <td>False</td>\n",
       "      <td>False</td>\n",
       "      <td>False</td>\n",
       "      <td>False</td>\n",
       "      <td>False</td>\n",
       "      <td>True</td>\n",
       "      <td>...</td>\n",
       "      <td>False</td>\n",
       "      <td>False</td>\n",
       "      <td>False</td>\n",
       "      <td>False</td>\n",
       "      <td>2015</td>\n",
       "      <td>5</td>\n",
       "      <td>13</td>\n",
       "      <td>23</td>\n",
       "      <td>53</td>\n",
       "      <td>0</td>\n",
       "    </tr>\n",
       "    <tr>\n",
       "      <th>1</th>\n",
       "      <td>OTHER OFFENSES</td>\n",
       "      <td>-122.425892</td>\n",
       "      <td>37.774599</td>\n",
       "      <td>False</td>\n",
       "      <td>False</td>\n",
       "      <td>False</td>\n",
       "      <td>False</td>\n",
       "      <td>False</td>\n",
       "      <td>False</td>\n",
       "      <td>True</td>\n",
       "      <td>...</td>\n",
       "      <td>False</td>\n",
       "      <td>False</td>\n",
       "      <td>False</td>\n",
       "      <td>False</td>\n",
       "      <td>2015</td>\n",
       "      <td>5</td>\n",
       "      <td>13</td>\n",
       "      <td>23</td>\n",
       "      <td>53</td>\n",
       "      <td>0</td>\n",
       "    </tr>\n",
       "    <tr>\n",
       "      <th>2</th>\n",
       "      <td>OTHER OFFENSES</td>\n",
       "      <td>-122.424363</td>\n",
       "      <td>37.800414</td>\n",
       "      <td>False</td>\n",
       "      <td>False</td>\n",
       "      <td>False</td>\n",
       "      <td>False</td>\n",
       "      <td>False</td>\n",
       "      <td>False</td>\n",
       "      <td>True</td>\n",
       "      <td>...</td>\n",
       "      <td>False</td>\n",
       "      <td>False</td>\n",
       "      <td>False</td>\n",
       "      <td>False</td>\n",
       "      <td>2015</td>\n",
       "      <td>5</td>\n",
       "      <td>13</td>\n",
       "      <td>23</td>\n",
       "      <td>33</td>\n",
       "      <td>0</td>\n",
       "    </tr>\n",
       "  </tbody>\n",
       "</table>\n",
       "<p>3 rows × 26 columns</p>\n",
       "</div>"
      ],
      "text/plain": [
       "         Category           X          Y DayOfWeek_Friday DayOfWeek_Monday  \\\n",
       "0        WARRANTS -122.425892  37.774599            False            False   \n",
       "1  OTHER OFFENSES -122.425892  37.774599            False            False   \n",
       "2  OTHER OFFENSES -122.424363  37.800414            False            False   \n",
       "\n",
       "  DayOfWeek_Saturday DayOfWeek_Sunday DayOfWeek_Thursday DayOfWeek_Tuesday  \\\n",
       "0              False            False              False             False   \n",
       "1              False            False              False             False   \n",
       "2              False            False              False             False   \n",
       "\n",
       "  DayOfWeek_Wednesday     ...      PdDistrict_RICHMOND PdDistrict_SOUTHERN  \\\n",
       "0                True     ...                    False               False   \n",
       "1                True     ...                    False               False   \n",
       "2                True     ...                    False               False   \n",
       "\n",
       "  PdDistrict_TARAVAL PdDistrict_TENDERLOIN Dates_year Dates_month Dates_day  \\\n",
       "0              False                 False       2015           5        13   \n",
       "1              False                 False       2015           5        13   \n",
       "2              False                 False       2015           5        13   \n",
       "\n",
       "  Dates_hour Dates_minute Dates_second  \n",
       "0         23           53            0  \n",
       "1         23           53            0  \n",
       "2         23           33            0  \n",
       "\n",
       "[3 rows x 26 columns]"
      ]
     },
     "execution_count": 7,
     "metadata": {},
     "output_type": "execute_result"
    }
   ],
   "source": [
    "train[\"Dates_year\"] = train[\"Dates\"].dt.year\n",
    "train[\"Dates_month\"] = train[\"Dates\"].dt.month\n",
    "train[\"Dates_day\"] = train[\"Dates\"].dt.day\n",
    "train[\"Dates_hour\"] = train[\"Dates\"].dt.hour\n",
    "train[\"Dates_minute\"] = train[\"Dates\"].dt.minute\n",
    "train[\"Dates_second\"] = train[\"Dates\"].dt.second\n",
    "\n",
    "train.drop(\"Dates\", axis=1, inplace=True)\n",
    "\n",
    "print(train.shape)\n",
    "train.head(3)"
   ]
  },
  {
   "cell_type": "markdown",
   "metadata": {},
   "source": [
    "### Convert the variable Dates_minute column to 0 if the previous is 30."
   ]
  },
  {
   "cell_type": "code",
   "execution_count": 8,
   "metadata": {
    "collapsed": false
   },
   "outputs": [
    {
     "data": {
      "text/plain": [
       "0     394123\n",
       "45     40229\n",
       "15     37904\n",
       "20     26027\n",
       "1      25859\n",
       "Name: Dates_minute, dtype: int64"
      ]
     },
     "execution_count": 8,
     "metadata": {},
     "output_type": "execute_result"
    }
   ],
   "source": [
    "train.loc[(train[\"Dates_minute\"] == 30), \"Dates_minute\"] = 0\n",
    "train[\"Dates_minute\"].value_counts()[:5]"
   ]
  },
  {
   "cell_type": "markdown",
   "metadata": {},
   "source": [
    "### Remove Dates_second due to no variance"
   ]
  },
  {
   "cell_type": "code",
   "execution_count": 13,
   "metadata": {
    "collapsed": false
   },
   "outputs": [
    {
     "name": "stdout",
     "output_type": "stream",
     "text": [
      "0    878049\n",
      "Name: Dates_second, dtype: int64\n",
      "(878049, 25)\n"
     ]
    },
    {
     "data": {
      "text/html": [
       "<div>\n",
       "<table border=\"1\" class=\"dataframe\">\n",
       "  <thead>\n",
       "    <tr style=\"text-align: right;\">\n",
       "      <th></th>\n",
       "      <th>Category</th>\n",
       "      <th>X</th>\n",
       "      <th>Y</th>\n",
       "      <th>DayOfWeek_Friday</th>\n",
       "      <th>DayOfWeek_Monday</th>\n",
       "      <th>DayOfWeek_Saturday</th>\n",
       "      <th>DayOfWeek_Sunday</th>\n",
       "      <th>DayOfWeek_Thursday</th>\n",
       "      <th>DayOfWeek_Tuesday</th>\n",
       "      <th>DayOfWeek_Wednesday</th>\n",
       "      <th>...</th>\n",
       "      <th>PdDistrict_PARK</th>\n",
       "      <th>PdDistrict_RICHMOND</th>\n",
       "      <th>PdDistrict_SOUTHERN</th>\n",
       "      <th>PdDistrict_TARAVAL</th>\n",
       "      <th>PdDistrict_TENDERLOIN</th>\n",
       "      <th>Dates_year</th>\n",
       "      <th>Dates_month</th>\n",
       "      <th>Dates_day</th>\n",
       "      <th>Dates_hour</th>\n",
       "      <th>Dates_minute</th>\n",
       "    </tr>\n",
       "  </thead>\n",
       "  <tbody>\n",
       "    <tr>\n",
       "      <th>0</th>\n",
       "      <td>WARRANTS</td>\n",
       "      <td>-122.425892</td>\n",
       "      <td>37.774599</td>\n",
       "      <td>False</td>\n",
       "      <td>False</td>\n",
       "      <td>False</td>\n",
       "      <td>False</td>\n",
       "      <td>False</td>\n",
       "      <td>False</td>\n",
       "      <td>True</td>\n",
       "      <td>...</td>\n",
       "      <td>False</td>\n",
       "      <td>False</td>\n",
       "      <td>False</td>\n",
       "      <td>False</td>\n",
       "      <td>False</td>\n",
       "      <td>2015</td>\n",
       "      <td>5</td>\n",
       "      <td>13</td>\n",
       "      <td>23</td>\n",
       "      <td>53</td>\n",
       "    </tr>\n",
       "    <tr>\n",
       "      <th>1</th>\n",
       "      <td>OTHER OFFENSES</td>\n",
       "      <td>-122.425892</td>\n",
       "      <td>37.774599</td>\n",
       "      <td>False</td>\n",
       "      <td>False</td>\n",
       "      <td>False</td>\n",
       "      <td>False</td>\n",
       "      <td>False</td>\n",
       "      <td>False</td>\n",
       "      <td>True</td>\n",
       "      <td>...</td>\n",
       "      <td>False</td>\n",
       "      <td>False</td>\n",
       "      <td>False</td>\n",
       "      <td>False</td>\n",
       "      <td>False</td>\n",
       "      <td>2015</td>\n",
       "      <td>5</td>\n",
       "      <td>13</td>\n",
       "      <td>23</td>\n",
       "      <td>53</td>\n",
       "    </tr>\n",
       "    <tr>\n",
       "      <th>2</th>\n",
       "      <td>OTHER OFFENSES</td>\n",
       "      <td>-122.424363</td>\n",
       "      <td>37.800414</td>\n",
       "      <td>False</td>\n",
       "      <td>False</td>\n",
       "      <td>False</td>\n",
       "      <td>False</td>\n",
       "      <td>False</td>\n",
       "      <td>False</td>\n",
       "      <td>True</td>\n",
       "      <td>...</td>\n",
       "      <td>False</td>\n",
       "      <td>False</td>\n",
       "      <td>False</td>\n",
       "      <td>False</td>\n",
       "      <td>False</td>\n",
       "      <td>2015</td>\n",
       "      <td>5</td>\n",
       "      <td>13</td>\n",
       "      <td>23</td>\n",
       "      <td>33</td>\n",
       "    </tr>\n",
       "  </tbody>\n",
       "</table>\n",
       "<p>3 rows × 25 columns</p>\n",
       "</div>"
      ],
      "text/plain": [
       "         Category           X          Y DayOfWeek_Friday DayOfWeek_Monday  \\\n",
       "0        WARRANTS -122.425892  37.774599            False            False   \n",
       "1  OTHER OFFENSES -122.425892  37.774599            False            False   \n",
       "2  OTHER OFFENSES -122.424363  37.800414            False            False   \n",
       "\n",
       "  DayOfWeek_Saturday DayOfWeek_Sunday DayOfWeek_Thursday DayOfWeek_Tuesday  \\\n",
       "0              False            False              False             False   \n",
       "1              False            False              False             False   \n",
       "2              False            False              False             False   \n",
       "\n",
       "  DayOfWeek_Wednesday     ...      PdDistrict_PARK PdDistrict_RICHMOND  \\\n",
       "0                True     ...                False               False   \n",
       "1                True     ...                False               False   \n",
       "2                True     ...                False               False   \n",
       "\n",
       "  PdDistrict_SOUTHERN PdDistrict_TARAVAL PdDistrict_TENDERLOIN Dates_year  \\\n",
       "0               False              False                 False       2015   \n",
       "1               False              False                 False       2015   \n",
       "2               False              False                 False       2015   \n",
       "\n",
       "  Dates_month Dates_day Dates_hour Dates_minute  \n",
       "0           5        13         23           53  \n",
       "1           5        13         23           53  \n",
       "2           5        13         23           33  \n",
       "\n",
       "[3 rows x 25 columns]"
      ]
     },
     "execution_count": 13,
     "metadata": {},
     "output_type": "execute_result"
    }
   ],
   "source": [
    "print(train[\"Dates_second\"].value_counts())\n",
    "train.drop(\"Dates_second\", axis=1, inplace=True)\n",
    "\n",
    "print(train.shape)\n",
    "train.head(3)"
   ]
  },
  {
   "cell_type": "markdown",
   "metadata": {},
   "source": [
    "## Score"
   ]
  },
  {
   "cell_type": "code",
   "execution_count": 9,
   "metadata": {
    "collapsed": false
   },
   "outputs": [
    {
     "name": "stdout",
     "output_type": "stream",
     "text": [
      "(878049, 25)\n"
     ]
    },
    {
     "data": {
      "text/html": [
       "<div>\n",
       "<table border=\"1\" class=\"dataframe\">\n",
       "  <thead>\n",
       "    <tr style=\"text-align: right;\">\n",
       "      <th></th>\n",
       "      <th>Dates_day</th>\n",
       "      <th>Dates_hour</th>\n",
       "      <th>Dates_minute</th>\n",
       "      <th>Dates_month</th>\n",
       "      <th>Dates_second</th>\n",
       "      <th>Dates_year</th>\n",
       "      <th>DayOfWeek_Friday</th>\n",
       "      <th>DayOfWeek_Monday</th>\n",
       "      <th>DayOfWeek_Saturday</th>\n",
       "      <th>DayOfWeek_Sunday</th>\n",
       "      <th>...</th>\n",
       "      <th>PdDistrict_INGLESIDE</th>\n",
       "      <th>PdDistrict_MISSION</th>\n",
       "      <th>PdDistrict_NORTHERN</th>\n",
       "      <th>PdDistrict_PARK</th>\n",
       "      <th>PdDistrict_RICHMOND</th>\n",
       "      <th>PdDistrict_SOUTHERN</th>\n",
       "      <th>PdDistrict_TARAVAL</th>\n",
       "      <th>PdDistrict_TENDERLOIN</th>\n",
       "      <th>X</th>\n",
       "      <th>Y</th>\n",
       "    </tr>\n",
       "  </thead>\n",
       "  <tbody>\n",
       "    <tr>\n",
       "      <th>0</th>\n",
       "      <td>13</td>\n",
       "      <td>23</td>\n",
       "      <td>53</td>\n",
       "      <td>5</td>\n",
       "      <td>0</td>\n",
       "      <td>2015</td>\n",
       "      <td>False</td>\n",
       "      <td>False</td>\n",
       "      <td>False</td>\n",
       "      <td>False</td>\n",
       "      <td>...</td>\n",
       "      <td>False</td>\n",
       "      <td>False</td>\n",
       "      <td>True</td>\n",
       "      <td>False</td>\n",
       "      <td>False</td>\n",
       "      <td>False</td>\n",
       "      <td>False</td>\n",
       "      <td>False</td>\n",
       "      <td>-122.425892</td>\n",
       "      <td>37.774599</td>\n",
       "    </tr>\n",
       "    <tr>\n",
       "      <th>1</th>\n",
       "      <td>13</td>\n",
       "      <td>23</td>\n",
       "      <td>53</td>\n",
       "      <td>5</td>\n",
       "      <td>0</td>\n",
       "      <td>2015</td>\n",
       "      <td>False</td>\n",
       "      <td>False</td>\n",
       "      <td>False</td>\n",
       "      <td>False</td>\n",
       "      <td>...</td>\n",
       "      <td>False</td>\n",
       "      <td>False</td>\n",
       "      <td>True</td>\n",
       "      <td>False</td>\n",
       "      <td>False</td>\n",
       "      <td>False</td>\n",
       "      <td>False</td>\n",
       "      <td>False</td>\n",
       "      <td>-122.425892</td>\n",
       "      <td>37.774599</td>\n",
       "    </tr>\n",
       "    <tr>\n",
       "      <th>2</th>\n",
       "      <td>13</td>\n",
       "      <td>23</td>\n",
       "      <td>33</td>\n",
       "      <td>5</td>\n",
       "      <td>0</td>\n",
       "      <td>2015</td>\n",
       "      <td>False</td>\n",
       "      <td>False</td>\n",
       "      <td>False</td>\n",
       "      <td>False</td>\n",
       "      <td>...</td>\n",
       "      <td>False</td>\n",
       "      <td>False</td>\n",
       "      <td>True</td>\n",
       "      <td>False</td>\n",
       "      <td>False</td>\n",
       "      <td>False</td>\n",
       "      <td>False</td>\n",
       "      <td>False</td>\n",
       "      <td>-122.424363</td>\n",
       "      <td>37.800414</td>\n",
       "    </tr>\n",
       "  </tbody>\n",
       "</table>\n",
       "<p>3 rows × 25 columns</p>\n",
       "</div>"
      ],
      "text/plain": [
       "   Dates_day  Dates_hour  Dates_minute  Dates_month  Dates_second  Dates_year  \\\n",
       "0         13          23            53            5             0        2015   \n",
       "1         13          23            53            5             0        2015   \n",
       "2         13          23            33            5             0        2015   \n",
       "\n",
       "  DayOfWeek_Friday DayOfWeek_Monday DayOfWeek_Saturday DayOfWeek_Sunday  \\\n",
       "0            False            False              False            False   \n",
       "1            False            False              False            False   \n",
       "2            False            False              False            False   \n",
       "\n",
       "     ...     PdDistrict_INGLESIDE PdDistrict_MISSION PdDistrict_NORTHERN  \\\n",
       "0    ...                    False              False                True   \n",
       "1    ...                    False              False                True   \n",
       "2    ...                    False              False                True   \n",
       "\n",
       "  PdDistrict_PARK PdDistrict_RICHMOND PdDistrict_SOUTHERN PdDistrict_TARAVAL  \\\n",
       "0           False               False               False              False   \n",
       "1           False               False               False              False   \n",
       "2           False               False               False              False   \n",
       "\n",
       "  PdDistrict_TENDERLOIN           X          Y  \n",
       "0                 False -122.425892  37.774599  \n",
       "1                 False -122.425892  37.774599  \n",
       "2                 False -122.424363  37.800414  \n",
       "\n",
       "[3 rows x 25 columns]"
      ]
     },
     "execution_count": 9,
     "metadata": {},
     "output_type": "execute_result"
    }
   ],
   "source": [
    "label_name = \"Category\"\n",
    "feature_names = train.columns.difference([label_name])\n",
    "\n",
    "X_train = train[feature_names]\n",
    "\n",
    "print(X_train.shape)\n",
    "X_train.head(3)"
   ]
  },
  {
   "cell_type": "code",
   "execution_count": 10,
   "metadata": {
    "collapsed": false
   },
   "outputs": [
    {
     "name": "stdout",
     "output_type": "stream",
     "text": [
      "(878049,)\n"
     ]
    },
    {
     "data": {
      "text/plain": [
       "0          WARRANTS\n",
       "1    OTHER OFFENSES\n",
       "2    OTHER OFFENSES\n",
       "Name: Category, dtype: object"
      ]
     },
     "execution_count": 10,
     "metadata": {},
     "output_type": "execute_result"
    }
   ],
   "source": [
    "y_train = train[label_name]\n",
    "\n",
    "print(y_train.shape)\n",
    "y_train.head(3)"
   ]
  },
  {
   "cell_type": "markdown",
   "metadata": {},
   "source": [
    "### Evaluate using Naive Bayes"
   ]
  },
  {
   "cell_type": "code",
   "execution_count": 11,
   "metadata": {
    "collapsed": false
   },
   "outputs": [
    {
     "name": "stdout",
     "output_type": "stream",
     "text": [
      "CPU times: user 22.6 s, sys: 3.12 s, total: 25.7 s\n",
      "Wall time: 22.2 s\n",
      "Use BernoulliNB. Score = 2.536838\n"
     ]
    }
   ],
   "source": [
    "from sklearn.naive_bayes import BernoulliNB\n",
    "from sklearn.cross_validation import cross_val_score, StratifiedKFold\n",
    "\n",
    "kfold = StratifiedKFold(y_train, n_folds=6)\n",
    "\n",
    "model = BernoulliNB()\n",
    "%time score = cross_val_score(model, X_train, y_train, cv=kfold, scoring='log_loss').mean()\n",
    "score = -1.0 * score\n",
    "\n",
    "print(\"Use BernoulliNB. Score = {0:.6f}\".format(score))"
   ]
  },
  {
   "cell_type": "markdown",
   "metadata": {},
   "source": [
    "## Result\n",
    "  * Before: 2.564320\n",
    "  * After: 2.536838"
   ]
  },
  {
   "cell_type": "code",
   "execution_count": null,
   "metadata": {
    "collapsed": true
   },
   "outputs": [],
   "source": []
  }
 ],
 "metadata": {
  "anaconda-cloud": {},
  "kernelspec": {
   "display_name": "Python 2",
   "language": "python",
   "name": "python2"
  },
  "language_info": {
   "codemirror_mode": {
    "name": "ipython",
    "version": 2
   },
   "file_extension": ".py",
   "mimetype": "text/x-python",
   "name": "python",
   "nbconvert_exporter": "python",
   "pygments_lexer": "ipython2",
   "version": "2.7.12"
  }
 },
 "nbformat": 4,
 "nbformat_minor": 0
}
